{
 "cells": [
  {
   "cell_type": "code",
   "execution_count": null,
   "metadata": {},
   "outputs": [],
   "source": [
    "# CIFAR10 dataset\n",
    "# input: 3x32x32 airplane\n",
    "# output:   airplane, automobile, bird, cat, deer, dog, frog, horse, ship, truck - 10 labels"
   ]
  },
  {
   "cell_type": "code",
   "execution_count": 1,
   "metadata": {},
   "outputs": [],
   "source": [
    "import torch\n",
    "import torchvision\n",
    "import torchvision.transforms as transforms\n",
    "\n",
    "import matplotlib.pyplot as plt\n",
    "import numpy as np"
   ]
  },
  {
   "cell_type": "code",
   "execution_count": 2,
   "metadata": {},
   "outputs": [],
   "source": [
    "# transform.ToTensor  - converts np.ndarray (H,W,C) [0,255] -> torch.FloatTensor (C, H, W) [0.0,1.0]\n",
    "# transform.Normalize - normalize a tensor with given mean and standard deviation for each channel (M1,...,Mn), (S1,..,Sn)\n",
    "# input[channel] = (input[channel] - mean[channel]) / std[channel]\n",
    "transform = transforms.Compose(\n",
    "    [transforms.ToTensor(),\n",
    "     transforms.Normalize((0.5, 0.5, 0.5), (0.5, 0.5, 0.5))]\n",
    ")\n",
    "\n",
    "# if dataset downloaded into ./data -> set downlaod=False\n",
    "trainset = torchvision.datasets.CIFAR10(root='./data', train=True, download=False, transform=transform)\n",
    "trainloader = torch.utils.data.DataLoader(trainset, batch_size=4, shuffle=True, num_workers=2)\n",
    "\n",
    "testset = torchvision.datasets.CIFAR10(root='./data', train=False, download=False, transform=transform)\n",
    "testloader = torch.utils.data.DataLoader(testset, batch_size=4, shuffle=False, num_workers=2)\n",
    "\n",
    "classes = ('plane', 'car', 'bird', 'cat', 'deer', 'dog', 'frog', 'horse', 'ship', 'truck')"
   ]
  },
  {
   "cell_type": "code",
   "execution_count": 3,
   "metadata": {},
   "outputs": [],
   "source": [
    "dataiter = iter(trainloader)\n",
    "images, labels = dataiter.next()"
   ]
  },
  {
   "cell_type": "code",
   "execution_count": 4,
   "metadata": {},
   "outputs": [
    {
     "name": "stdout",
     "output_type": "stream",
     "text": [
      "torch.Size([4, 3, 32, 32])\n"
     ]
    },
    {
     "data": {
      "image/png": "[encoded data removed]",
      "text/plain": [
       "<Figure size 432x288 with 1 Axes>"
      ]
     },
     "metadata": {
      "needs_background": "light"
     },
     "output_type": "display_data"
    },
    {
     "name": "stdout",
     "output_type": "stream",
     "text": [
      "tensor([8, 1, 1, 6])\n",
      "['ship', 'car', 'car', 'frog']\n"
     ]
    }
   ],
   "source": [
    "# visualize all images in batch\n",
    "# (batch_size, C, H, W)\n",
    "print(images.shape)\n",
    "def show_image(image):\n",
    "    image = image / 2 + 0.5\n",
    "    image = np.transpose(image.numpy(), (1, 2, 0))\n",
    "    plt.imshow(image)\n",
    "    plt.show()\n",
    "\n",
    "im = torchvision.utils.make_grid(images)\n",
    "show_image(im)\n",
    "    \n",
    "print(labels)\n",
    "print([classes[c] for c in labels])"
   ]
  },
  {
   "cell_type": "code",
   "execution_count": 5,
   "metadata": {},
   "outputs": [],
   "source": [
    "import torch.nn as nn\n",
    "import torch.nn.functional as F\n",
    "\n",
    "# nn.Conv2d(C_in, C_out, kernel_size)  (N, C_in, H, W) -> (N, C_out, H_out, W_out)\n",
    "\n",
    "class CNN(nn.Module):\n",
    "    def __init__(self):\n",
    "        super(CNN, self).__init__()\n",
    "        self.conv1 = nn.Conv2d(3, 6, 5)\n",
    "        self.pool = nn.MaxPool2d(2, 2)\n",
    "        self.conv2 = nn.Conv2d(6, 16, 5)\n",
    "        self.fc1 = nn.Linear(16 * 5 * 5, 120)\n",
    "        self.fc2 = nn.Linear(120, 84)\n",
    "        self.fc3 = nn.Linear(84, 10)\n",
    "        \n",
    "    def forward(self, x):\n",
    "        x = self.pool(F.relu(self.conv1(x)))\n",
    "        x = self.pool(F.relu(self.conv2(x)))\n",
    "        x = x.view(-1, 16 * 5 * 5)\n",
    "        x = F.relu(self.fc1(x))\n",
    "        x = F.relu(self.fc2(x))\n",
    "        x = self.fc3(x)\n",
    "        return x\n",
    "\n",
    "model = CNN()"
   ]
  },
  {
   "cell_type": "code",
   "execution_count": 6,
   "metadata": {},
   "outputs": [
    {
     "name": "stdout",
     "output_type": "stream",
     "text": [
      "CNN(\n",
      "  (conv1): Conv2d(3, 6, kernel_size=(5, 5), stride=(1, 1))\n",
      "  (pool): MaxPool2d(kernel_size=2, stride=2, padding=0, dilation=1, ceil_mode=False)\n",
      "  (conv2): Conv2d(6, 16, kernel_size=(5, 5), stride=(1, 1))\n",
      "  (fc1): Linear(in_features=400, out_features=120, bias=True)\n",
      "  (fc2): Linear(in_features=120, out_features=84, bias=True)\n",
      "  (fc3): Linear(in_features=84, out_features=10, bias=True)\n",
      ")\n"
     ]
    }
   ],
   "source": [
    "print(model)"
   ]
  },
  {
   "cell_type": "code",
   "execution_count": 7,
   "metadata": {},
   "outputs": [
    {
     "name": "stdout",
     "output_type": "stream",
     "text": [
      "True None torch.Size([6, 3, 5, 5]) None\n",
      "True None torch.Size([6]) None\n",
      "True None torch.Size([16, 6, 5, 5]) None\n",
      "True None torch.Size([16]) None\n",
      "True None torch.Size([120, 400]) None\n",
      "True None torch.Size([120]) None\n",
      "True None torch.Size([84, 120]) None\n",
      "True None torch.Size([84]) None\n",
      "True None torch.Size([10, 84]) None\n",
      "True None torch.Size([10]) None\n"
     ]
    }
   ],
   "source": [
    "import torch.optim as optim\n",
    "\n",
    "criterion = nn.CrossEntropyLoss()\n",
    "optimizer = optim.SGD(model.parameters(), lr=0.001, momentum=0.9)\n",
    "\n",
    "# Printing all tensors that need to be trained\n",
    "for p in model.parameters():\n",
    "    print(p.requires_grad, p.name, p.data.shape, p.data.grad)"
   ]
  },
  {
   "cell_type": "code",
   "execution_count": 8,
   "metadata": {},
   "outputs": [
    {
     "name": "stdout",
     "output_type": "stream",
     "text": [
      "[1,  1000] loss: 2.289\n",
      "[1,  2000] loss: 2.117\n",
      "[1,  3000] loss: 1.940\n",
      "[1,  4000] loss: 1.804\n",
      "[1,  5000] loss: 1.693\n",
      "[1,  6000] loss: 1.689\n",
      "[1,  7000] loss: 1.602\n",
      "[1,  8000] loss: 1.608\n",
      "[1,  9000] loss: 1.543\n",
      "[1, 10000] loss: 1.517\n",
      "[1, 11000] loss: 1.516\n",
      "[1, 12000] loss: 1.467\n",
      "[2,  1000] loss: 1.381\n",
      "[2,  2000] loss: 1.394\n",
      "[2,  3000] loss: 1.363\n",
      "[2,  4000] loss: 1.399\n",
      "[2,  5000] loss: 1.373\n",
      "[2,  6000] loss: 1.340\n",
      "[2,  7000] loss: 1.328\n",
      "[2,  8000] loss: 1.348\n",
      "[2,  9000] loss: 1.328\n",
      "[2, 10000] loss: 1.314\n",
      "[2, 11000] loss: 1.315\n",
      "[2, 12000] loss: 1.292\n",
      "Finished training\n"
     ]
    }
   ],
   "source": [
    "# training model\n",
    "EPOCHS = 2\n",
    "\n",
    "for epoch in range(EPOCHS):\n",
    "    \n",
    "    total_loss = 0.0\n",
    "    for i, data in enumerate(trainloader, 0):\n",
    "        inputs, labels = data\n",
    "        optimizer.zero_grad()\n",
    "        output = model.forward(inputs)\n",
    "        loss = criterion(output, labels)\n",
    "        loss.backward()\n",
    "        optimizer.step()\n",
    "    \n",
    "        total_loss += loss.item()\n",
    "        if (i + 1) % 1000 == 0:\n",
    "            print('[%d, %5d] loss: %.3f' % (epoch + 1, i + 1, total_loss /  1000))\n",
    "            total_loss = 0.0\n",
    "        \n",
    "print('Finished training')"
   ]
  },
  {
   "cell_type": "code",
   "execution_count": 9,
   "metadata": {},
   "outputs": [],
   "source": [
    "# save model to file\n",
    "torch.save(model.state_dict(), \"./models/CNN.pth\")"
   ]
  },
  {
   "cell_type": "code",
   "execution_count": 11,
   "metadata": {},
   "outputs": [
    {
     "data": {
      "image/png": "[encoded data removed]",
      "text/plain": [
       "<Figure size 432x288 with 1 Axes>"
      ]
     },
     "metadata": {
      "needs_background": "light"
     },
     "output_type": "display_data"
    },
    {
     "name": "stdout",
     "output_type": "stream",
     "text": [
      "tensor([3, 8, 8, 0])\n",
      "['cat', 'ship', 'ship', 'plane']\n"
     ]
    }
   ],
   "source": [
    "# test model\n",
    "dataiter = iter(testloader)\n",
    "images, labels = dataiter.next()\n",
    "\n",
    "im = torchvision.utils.make_grid(images)\n",
    "show_image(im)\n",
    "    \n",
    "print(labels)\n",
    "print([classes[c] for c in labels])"
   ]
  },
  {
   "cell_type": "code",
   "execution_count": 37,
   "metadata": {},
   "outputs": [
    {
     "name": "stdout",
     "output_type": "stream",
     "text": [
      "['ship', 'ship', 'car', 'plane']\n"
     ]
    }
   ],
   "source": [
    "# try one input\n",
    "outputs = model.forward(images)\n",
    "_, predicted = torch.max(outputs, 1)\n",
    "print([classes[c] for c in predicted])"
   ]
  },
  {
   "cell_type": "code",
   "execution_count": 38,
   "metadata": {},
   "outputs": [
    {
     "name": "stdout",
     "output_type": "stream",
     "text": [
      "Accuracy of the model: 56\n"
     ]
    }
   ],
   "source": [
    "correct = 0\n",
    "total = 0\n",
    "with torch.no_grad():\n",
    "    for data in testloader:\n",
    "        images, labels = data\n",
    "        outputs = model.forward(images)\n",
    "        _, predicted = torch.max(outputs.data, 1)\n",
    "        total += labels.size(0)\n",
    "        correct += (predicted == labels).sum().item()\n",
    "\n",
    "print('Accuracy of the model: %d' % (100 * correct / total))"
   ]
  }
 ],
 "metadata": {
  "kernelspec": {
   "display_name": "Python 3",
   "language": "python",
   "name": "python3"
  },
  "language_info": {
   "codemirror_mode": {
    "name": "ipython",
    "version": 3
   },
   "file_extension": ".py",
   "mimetype": "text/x-python",
   "name": "python",
   "nbconvert_exporter": "python",
   "pygments_lexer": "ipython3",
   "version": "3.7.4"
  }
 },
 "nbformat": 4,
 "nbformat_minor": 2
}
