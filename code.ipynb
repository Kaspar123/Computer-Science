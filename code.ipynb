{
 "nbformat": 4,
 "nbformat_minor": 2,
 "metadata": {
  "language_info": {
   "name": "python",
   "codemirror_mode": {
    "name": "ipython",
    "version": 3
   },
   "version": "3.8.1-final"
  },
  "orig_nbformat": 2,
  "file_extension": ".py",
  "mimetype": "text/x-python",
  "name": "python",
  "npconvert_exporter": "python",
  "pygments_lexer": "ipython3",
  "version": 3,
  "kernelspec": {
   "name": "python38164bitbbfd1ca6f21b43bd852de635df8a414d",
   "display_name": "Python 3.8.1 64-bit"
  }
 },
 "cells": [
  {
   "cell_type": "code",
   "execution_count": 1,
   "metadata": {},
   "outputs": [],
   "source": [
    "import matplotlib.pyplot as plt\n",
    "import numpy as np\n",
    "\n",
    "from beamngpy import BeamNGpy, Vehicle, Scenario, setup_logging\n",
    "from beamngpy.sensors import Electrics, Camera"
   ]
  },
  {
   "cell_type": "code",
   "execution_count": 2,
   "metadata": {},
   "outputs": [
    {
     "name": "stderr",
     "output_type": "stream",
     "text": "2020-01-09 19:43:02,243 INFO     Started BeamNGpy logging.\n2020-01-09 19:43:02,259 DEBUG    Bound memory for colour: 1408.auto.camera.colour\n2020-01-09 19:43:02,260 DEBUG    Bound memory for depth: 1408.auto.camera.depth\n2020-01-09 19:43:02,261 DEBUG    Bound memory for annotation: 1408.auto.camera.annotate\n"
    }
   ],
   "source": [
    "setup_logging()\n",
    "\n",
    "HOME_PATH = 'C:\\\\Users\\\\kaspa\\\\Desktop\\\\research\\\\trunk'\n",
    "\n",
    "# create BeamNG simulator instance\n",
    "beamng = BeamNGpy(host='localhost', port=64256, home=HOME_PATH)\n",
    "\n",
    "# create a vehicle, attach sensors\n",
    "# TODO: use random UUID as vid\n",
    "vehicle = Vehicle(vid='auto', model='etk800', licence='KASPAR', color='Green')\n",
    "\n",
    "electrics = Electrics()\n",
    "vehicle.attach_sensor('electrics', electrics)\n",
    "\n",
    "camera = Camera(pos=(-0.3, 1, 1.0), direction=(0, 1, 0), fov=120, resolution=(512, 512))\n",
    "vehicle.attach_sensor('camera', camera)\n",
    "\n",
    "# create a scenario, add vehicle to scenario\n",
    "# TODO: what other levels are possible?\n",
    "scenario = Scenario(level='west_coast_usa', name='vehicle_state_scenario')\n",
    "scenario.add_vehicle(vehicle, pos=(-717.121, 101, 118.675), rot=(0, 0, 45))\n",
    "\n",
    "# compile scenario and produce scenario file\n",
    "scenario.make(beamng)"
   ]
  },
  {
   "cell_type": "code",
   "execution_count": 3,
   "metadata": {},
   "outputs": [
    {
     "name": "stderr",
     "output_type": "stream",
     "text": "2020-01-09 19:43:10,007 INFO     Opening BeamNPy instance...\n2020-01-09 19:43:10,015 INFO     Started BeamNGpy server on localhost:64256\n2020-01-09 19:43:10,017 DEBUG    Determined BeamNG.* binary to be: C:\\Users\\kaspa\\Desktop\\research\\trunk\\Bin64\\BeamNG.research.x64.exe\n2020-01-09 19:43:10,020 DEBUG    Starting BeamNG process...\n2020-01-09 19:43:20,833 DEBUG    Connection established. Awaiting \"hello\"...\n2020-01-09 19:43:20,835 INFO     recv #0: 64256\n2020-01-09 19:43:20,848 INFO     recv #1: 25\n2020-01-09 19:43:20,853 INFO     recv #2: b'\\x82\\xa4type\\xa5Hello\\xa7version\\xa4v1.9'\n2020-01-09 19:43:20,873 INFO     recv #3: b''\n2020-01-09 19:43:20,882 INFO     recv #4: {'type': 'Hello', 'version': 'v1.9'}\n2020-01-09 19:43:20,886 INFO     Started BeamNGpy communicating on ('127.0.0.1', 53445)\n2020-01-09 19:43:20,888 INFO     send #0: 64256\n2020-01-09 19:43:20,890 INFO     send #1: {'type': 'LoadScenario', 'path': 'levels/west_coast_usa/scenarios/vehicle_state_scenario.json'}\n2020-01-09 19:43:20,892 INFO     send #2: 0000000000000085\n2020-01-09 19:43:20,893 INFO     send #3: b'\\x82\\xa4type\\xacLoadScenario\\xa4path\\xd9;levels/west_coast_usa/scenarios/vehicle_state_scenario.json'\n2020-01-09 19:43:20,894 INFO     recv #0: 64256\nBeamNGpy and BeamNG.* version mismatch: BeamNGpy v1.15, BeamNG.* v1.9\nMake sure both this library and BeamNG.* are up to date.\nOperation will proceed, but some features might not work.\n2020-01-09 19:43:52,501 INFO     recv #1: 16\n2020-01-09 19:43:52,503 INFO     recv #2: b'\\x81\\xa4type\\xa9MapLoaded'\n2020-01-09 19:43:52,504 INFO     recv #3: b''\n2020-01-09 19:43:52,506 INFO     recv #4: {'type': 'MapLoaded'}\n2020-01-09 19:43:52,507 INFO     send #0: 64256\n2020-01-09 19:43:52,512 INFO     send #1: {'type': 'EngineFlags', 'flags': {'annotations': True}}\n2020-01-09 19:43:52,513 INFO     send #2: 0000000000000038\n2020-01-09 19:43:52,514 INFO     send #3: b'\\x82\\xa4type\\xabEngineFlags\\xa5flags\\x81\\xabannotations\\xc3'\n2020-01-09 19:43:52,516 INFO     recv #0: 64256\n2020-01-09 19:44:03,901 INFO     recv #1: 21\n2020-01-09 19:44:03,903 INFO     recv #2: b'\\x81\\xa4type\\xaeSetEngineFlags'\n2020-01-09 19:44:03,904 INFO     recv #3: b''\n2020-01-09 19:44:03,905 INFO     recv #4: {'type': 'SetEngineFlags'}\n2020-01-09 19:44:03,907 DEBUG    Starting vehicle server for V:auto on: localhost:64257\n2020-01-09 19:44:03,908 INFO     send #0: 64256\n2020-01-09 19:44:03,909 INFO     send #1: {'type': 'VehicleConnection', 'vid': 'auto', 'host': 'localhost', 'port': 64257}\n2020-01-09 19:44:03,910 INFO     send #2: 0000000000000056\n2020-01-09 19:44:03,912 INFO     send #3: b'\\x84\\xa4type\\xb1VehicleConnection\\xa3vid\\xa4auto\\xa4host\\xa9localhost\\xa4port\\xcd\\xfb\\x01'\n2020-01-09 19:44:31,149 INFO     send #0: 64256\n2020-01-09 19:44:31,154 INFO     send #1: {'type': 'OpenShmem', 'name': '1408.auto.camera.colour', 'size': 1048576}\n2020-01-09 19:44:31,156 INFO     send #2: 0000000000000055\n2020-01-09 19:44:31,162 INFO     send #3: b'\\x83\\xa4type\\xa9OpenShmem\\xa4name\\xb71408.auto.camera.colour\\xa4size\\xce\\x00\\x10\\x00\\x00'\n2020-01-09 19:44:31,165 INFO     recv #0: 64256\n2020-01-09 19:44:31,174 INFO     recv #1: 18\n2020-01-09 19:44:31,176 INFO     recv #2: b'\\x81\\xa4type\\xabOpenedShmem'\n2020-01-09 19:44:31,179 INFO     recv #3: b''\n2020-01-09 19:44:31,181 INFO     recv #4: {'type': 'OpenedShmem'}\n2020-01-09 19:44:31,183 INFO     send #0: 64256\n2020-01-09 19:44:31,184 INFO     send #1: {'type': 'OpenShmem', 'name': '1408.auto.camera.depth', 'size': 1048576}\n2020-01-09 19:44:31,187 INFO     send #2: 0000000000000054\n2020-01-09 19:44:31,189 INFO     send #3: b'\\x83\\xa4type\\xa9OpenShmem\\xa4name\\xb61408.auto.camera.depth\\xa4size\\xce\\x00\\x10\\x00\\x00'\n2020-01-09 19:44:31,190 INFO     recv #0: 64256\n2020-01-09 19:44:31,195 INFO     recv #1: 18\n2020-01-09 19:44:31,197 INFO     recv #2: b'\\x81\\xa4type\\xabOpenedShmem'\n2020-01-09 19:44:31,198 INFO     recv #3: b''\n2020-01-09 19:44:31,201 INFO     recv #4: {'type': 'OpenedShmem'}\n2020-01-09 19:44:31,206 INFO     send #0: 64256\n2020-01-09 19:44:31,207 INFO     send #1: {'type': 'OpenShmem', 'name': '1408.auto.camera.annotate', 'size': 1048576}\n2020-01-09 19:44:31,210 INFO     send #2: 0000000000000057\n2020-01-09 19:44:31,211 INFO     send #3: b'\\x83\\xa4type\\xa9OpenShmem\\xa4name\\xb91408.auto.camera.annotate\\xa4size\\xce\\x00\\x10\\x00\\x00'\n2020-01-09 19:44:31,213 INFO     recv #0: 64256\n2020-01-09 19:44:31,231 INFO     recv #1: 18\n2020-01-09 19:44:31,235 INFO     recv #2: b'\\x81\\xa4type\\xabOpenedShmem'\n2020-01-09 19:44:31,236 INFO     recv #3: b''\n2020-01-09 19:44:31,237 INFO     recv #4: {'type': 'OpenedShmem'}\n2020-01-09 19:44:31,239 INFO     send #0: 64257\n2020-01-09 19:44:31,242 INFO     send #1: {'type': 'UpdateVehicle'}\n2020-01-09 19:44:31,243 INFO     send #2: 0000000000000020\n2020-01-09 19:44:31,244 INFO     send #3: b'\\x81\\xa4type\\xadUpdateVehicle'\n2020-01-09 19:44:31,245 INFO     recv #0: 64257\n2020-01-09 19:44:31,262 INFO     recv #1: 188\n2020-01-09 19:44:31,264 INFO     recv #2: b'\\x82\\xa4type\\xadVehicleUpdate\\xa5state\\x85\\xa3vel\\x93\\xcb\\xbfQV\\xe7\\xe0\\x00\\x00\\x00\\xcb\\xbfP\\xf2\\xae \\x00\\x00\\x00\\xcb?AK\\x9e\\xa0\\x00\\x00\\x00\\xa3pos\\x93\\xcb\\xc0\\x86i\\x04\\xe0\\x00\\x00\\x00\\xcb@Y?\\x9c@\\x00\\x00\\x00\\xcb@]\\xa4f\\x00\\x00\\x00\\x00\\xa3dir\\x93\\xcb\\xbf\\xe6\\x9f\\x95\\x80\\x00\\x00\\x00\\xcb\\xbf\\xe6\\x9fu@\\x00\\x00\\x00\\xcb\\xbf\\x93\\xef\\x85 \\x00\\x00\\x00\\xa5front\\x93\\xcb\\xc0\\x86o\\xc2@\\x00\\x00\\x00\\xcb@X\\xeb\\xdc`\\x00\\x00\\x00\\xcb@]\\xc8P \\x00\\x00\\x00\\xa2up\\x93\\xcb\\xbf\\x8d\\x1e1 \\x00\\x00\\x00\\xcb\\xbf\\x8a\\xd8\\x12\\xa0\\x00\\x00\\x00\\xcb?\\xef\\xfew\\xc0\\x00\\x00\\x00'\n2020-01-09 19:44:31,265 INFO     recv #3: b''\n2020-01-09 19:44:31,266 INFO     recv #4: {'type': 'VehicleUpdate', 'state': {'vel': [-0.0010583176044747233, -0.001034421962685883, 0.0005278133903630078], 'pos': [-717.1273803710938, 100.99391174316406, 118.5687255859375], 'dir': [-0.7069804668426514, -0.7069650888442993, -0.019468383863568306], 'front': [-717.9698486328125, 99.6853256225586, 119.12989044189453], 'up': [-0.014217742718756199, -0.013107438571751118, 0.9998129606246948]}}\n2020-01-09 19:44:31,269 INFO     send #0: 64256\n2020-01-09 19:44:31,273 INFO     send #1: {'type': 'EngineFlags', 'flags': {}}\n2020-01-09 19:44:31,275 INFO     send #2: 0000000000000025\n2020-01-09 19:44:31,278 INFO     send #3: b'\\x82\\xa4type\\xabEngineFlags\\xa5flags\\x80'\n2020-01-09 19:44:31,279 INFO     recv #0: 64256\n2020-01-09 19:44:31,336 INFO     recv #1: 21\n2020-01-09 19:44:31,337 INFO     recv #2: b'\\x81\\xa4type\\xaeSetEngineFlags'\n2020-01-09 19:44:31,339 INFO     recv #3: b''\n2020-01-09 19:44:31,343 INFO     recv #4: {'type': 'SetEngineFlags'}\n2020-01-09 19:44:31,345 INFO     send #0: 64256\n2020-01-09 19:44:31,346 INFO     send #1: {'type': 'StartScenario'}\n2020-01-09 19:44:31,347 INFO     send #2: 0000000000000020\n2020-01-09 19:44:31,348 INFO     send #3: b'\\x81\\xa4type\\xadStartScenario'\n2020-01-09 19:44:31,349 INFO     recv #0: 64256\n2020-01-09 19:44:31,394 INFO     recv #1: 22\n2020-01-09 19:44:31,396 INFO     recv #2: b'\\x81\\xa4type\\xafScenarioStarted'\n2020-01-09 19:44:31,399 INFO     recv #3: b''\n2020-01-09 19:44:31,412 INFO     recv #4: {'type': 'ScenarioStarted'}\n"
    }
   ],
   "source": [
    "bng = beamng.open()\n",
    "bng.load_scenario(scenario)\n",
    "bng.start_scenario()"
   ]
  },
  {
   "cell_type": "code",
   "execution_count": 4,
   "metadata": {},
   "outputs": [
    {
     "name": "stderr",
     "output_type": "stream",
     "text": "2020-01-09 19:44:40,407 INFO     send #0: 64257\n2020-01-09 19:44:40,409 INFO     send #1: {'type': 'UpdateVehicle'}\n2020-01-09 19:44:40,419 INFO     send #2: 0000000000000020\n2020-01-09 19:44:40,422 INFO     send #3: b'\\x81\\xa4type\\xadUpdateVehicle'\n2020-01-09 19:44:40,423 INFO     recv #0: 64257\n2020-01-09 19:44:40,449 INFO     recv #1: 188\n2020-01-09 19:44:40,451 INFO     recv #2: b'\\x82\\xa4type\\xadVehicleUpdate\\xa5state\\x85\\xa3vel\\x93\\xcb\\xbf\\x1e\\xf8< \\x00\\x00\\x00\\xcb>\\xeav\\xde\\x00\\x00\\x00\\x00\\xcb\\xbf\\x14\\xe8)\\xc0\\x00\\x00\\x00\\xa3pos\\x93\\xcb\\xc0\\x86i\\x05\\x00\\x00\\x00\\x00\\xcb@Y?\\x9b\\xe0\\x00\\x00\\x00\\xcb@]\\xa4h@\\x00\\x00\\x00\\xa3dir\\x93\\xcb\\xbf\\xe6\\x9fD`\\x00\\x00\\x00\\xcb\\xbf\\xe6\\x9f\\xc1 \\x00\\x00\\x00\\xcb\\xbf\\x94\\x072\\x00\\x00\\x00\\x00\\xa5front\\x93\\xcb\\xc0\\x86o\\xc2\\x80\\x00\\x00\\x00\\xcb@X\\xeb\\xda\\xc0\\x00\\x00\\x00\\xcb@]\\xc8P\\x00\\x00\\x00\\x00\\xa2up\\x93\\xcb\\xbf\\x8dB\\x1f\\x80\\x00\\x00\\x00\\xcb\\xbf\\x8a\\xf7\\xc6 \\x00\\x00\\x00\\xcb?\\xef\\xfet \\x00\\x00\\x00'\n2020-01-09 19:44:40,453 INFO     recv #3: b''\n2020-01-09 19:44:40,454 INFO     recv #4: {'type': 'VehicleUpdate', 'state': {'vel': [-0.00011813990568043664, 1.2619173503480852e-05, -7.97534448793158e-05], 'pos': [-717.12744140625, 100.99388885498047, 118.56886291503906], 'dir': [-0.7069417834281921, -0.707001268863678, -0.019558697938919067], 'front': [-717.969970703125, 99.68522644042969, 119.1298828125], 'up': [-0.014286275953054428, -0.013167903758585453, 0.9998112320899963]}}\n2020-01-09 19:44:40,456 INFO     send #0: 64256\n2020-01-09 19:44:40,457 INFO     send #1: {'type': 'SensorRequest', 'sensors': {'camera': {'type': 'Camera', 'color': '1408.auto.camera.colour', 'depth': '1408.auto.camera.depth', 'annotation': '1408.auto.camera.annotate', 'pos': (-0.3, 1, 1.0), 'direction': (0, 1, 0), 'fov': 120, 'resolution': (512, 512), 'near_far': (0.01, 1000), 'vehicle': 'auto'}}}\n2020-01-09 19:44:40,458 INFO     send #2: 0000000000000241\n2020-01-09 19:44:40,461 INFO     send #3: b'\\x82\\xa4type\\xadSensorRequest\\xa7sensors\\x81\\xa6camera\\x8a\\xa4type\\xa6Camera\\xa5color\\xb71408.auto.camera.colour\\xa5depth\\xb61408.auto.camera.depth\\xaaannotation\\xb91408.auto.camera.annotate\\xa3pos\\x93\\xcb\\xbf\\xd3333333\\x01\\xcb?\\xf0\\x00\\x00\\x00\\x00\\x00\\x00\\xa9direction\\x93\\x00\\x01\\x00\\xa3fovx\\xaaresolution\\x92\\xcd\\x02\\x00\\xcd\\x02\\x00\\xa8near_far\\x92\\xcb?\\x84z\\xe1G\\xae\\x14{\\xcd\\x03\\xe8\\xa7vehicle\\xa4auto'\n2020-01-09 19:44:40,465 INFO     recv #0: 64256\n"
    },
    {
     "ename": "ConnectionResetError",
     "evalue": "[WinError 10054] An existing connection was forcibly closed by the remote host",
     "output_type": "error",
     "traceback": [
      "\u001b[1;31m---------------------------------------------------------------------------\u001b[0m",
      "\u001b[1;31mConnectionResetError\u001b[0m                      Traceback (most recent call last)",
      "\u001b[1;32m<ipython-input-4-df8959347f1d>\u001b[0m in \u001b[0;36m<module>\u001b[1;34m\u001b[0m\n\u001b[0;32m      1\u001b[0m \u001b[0mvehicle\u001b[0m\u001b[1;33m.\u001b[0m\u001b[0mupdate_vehicle\u001b[0m\u001b[1;33m(\u001b[0m\u001b[1;33m)\u001b[0m\u001b[1;33m\u001b[0m\u001b[1;33m\u001b[0m\u001b[0m\n\u001b[1;32m----> 2\u001b[1;33m \u001b[0msensors\u001b[0m \u001b[1;33m=\u001b[0m \u001b[0mbng\u001b[0m\u001b[1;33m.\u001b[0m\u001b[0mpoll_sensors\u001b[0m\u001b[1;33m(\u001b[0m\u001b[0mvehicle\u001b[0m\u001b[1;33m)\u001b[0m\u001b[1;33m\u001b[0m\u001b[1;33m\u001b[0m\u001b[0m\n\u001b[0m\u001b[0;32m      3\u001b[0m \u001b[1;33m\u001b[0m\u001b[0m\n\u001b[0;32m      4\u001b[0m \u001b[1;31m# vehicle.state\u001b[0m\u001b[1;33m\u001b[0m\u001b[1;33m\u001b[0m\u001b[1;33m\u001b[0m\u001b[0m\n\u001b[0;32m      5\u001b[0m \u001b[1;31m# sensors\u001b[0m\u001b[1;33m\u001b[0m\u001b[1;33m\u001b[0m\u001b[1;33m\u001b[0m\u001b[0m\n",
      "\u001b[1;32m~\\AppData\\Local\\Programs\\Python\\Python38\\lib\\site-packages\\beamngpy\\beamng.py\u001b[0m in \u001b[0;36mpoll_sensors\u001b[1;34m(self, vehicle)\u001b[0m\n\u001b[0;32m    665\u001b[0m             \u001b[0mstart\u001b[0m \u001b[1;33m=\u001b[0m \u001b[0mtime\u001b[0m\u001b[1;33m.\u001b[0m\u001b[0mtime\u001b[0m\u001b[1;33m(\u001b[0m\u001b[1;33m)\u001b[0m\u001b[1;33m\u001b[0m\u001b[1;33m\u001b[0m\u001b[0m\n\u001b[0;32m    666\u001b[0m             \u001b[0mself\u001b[0m\u001b[1;33m.\u001b[0m\u001b[0msend\u001b[0m\u001b[1;33m(\u001b[0m\u001b[0mengine_reqs\u001b[0m\u001b[1;33m)\u001b[0m\u001b[1;33m\u001b[0m\u001b[1;33m\u001b[0m\u001b[0m\n\u001b[1;32m--> 667\u001b[1;33m             \u001b[0mresponse\u001b[0m \u001b[1;33m=\u001b[0m \u001b[0mself\u001b[0m\u001b[1;33m.\u001b[0m\u001b[0mrecv\u001b[0m\u001b[1;33m(\u001b[0m\u001b[1;33m)\u001b[0m\u001b[1;33m\u001b[0m\u001b[1;33m\u001b[0m\u001b[0m\n\u001b[0m\u001b[0;32m    668\u001b[0m             \u001b[1;32massert\u001b[0m \u001b[0mresponse\u001b[0m\u001b[1;33m[\u001b[0m\u001b[1;34m'type'\u001b[0m\u001b[1;33m]\u001b[0m \u001b[1;33m==\u001b[0m \u001b[1;34m'SensorData'\u001b[0m\u001b[1;33m\u001b[0m\u001b[1;33m\u001b[0m\u001b[0m\n\u001b[0;32m    669\u001b[0m             \u001b[0msensor_data\u001b[0m\u001b[1;33m.\u001b[0m\u001b[0mupdate\u001b[0m\u001b[1;33m(\u001b[0m\u001b[0mresponse\u001b[0m\u001b[1;33m[\u001b[0m\u001b[1;34m'data'\u001b[0m\u001b[1;33m]\u001b[0m\u001b[1;33m)\u001b[0m\u001b[1;33m\u001b[0m\u001b[1;33m\u001b[0m\u001b[0m\n",
      "\u001b[1;32m~\\AppData\\Local\\Programs\\Python\\Python38\\lib\\site-packages\\beamngpy\\beamng.py\u001b[0m in \u001b[0;36mrecv\u001b[1;34m(self)\u001b[0m\n\u001b[0;32m    252\u001b[0m             \u001b[0mThe\u001b[0m \u001b[0mdata\u001b[0m \u001b[0mreceived\u001b[0m\u001b[1;33m.\u001b[0m\u001b[1;33m\u001b[0m\u001b[1;33m\u001b[0m\u001b[0m\n\u001b[0;32m    253\u001b[0m         \"\"\"\n\u001b[1;32m--> 254\u001b[1;33m         \u001b[1;32mreturn\u001b[0m \u001b[0mrecv_msg\u001b[0m\u001b[1;33m(\u001b[0m\u001b[0mself\u001b[0m\u001b[1;33m.\u001b[0m\u001b[0mskt\u001b[0m\u001b[1;33m)\u001b[0m\u001b[1;33m\u001b[0m\u001b[1;33m\u001b[0m\u001b[0m\n\u001b[0m\u001b[0;32m    255\u001b[0m \u001b[1;33m\u001b[0m\u001b[0m\n\u001b[0;32m    256\u001b[0m     \u001b[1;32mdef\u001b[0m \u001b[0mopen\u001b[0m\u001b[1;33m(\u001b[0m\u001b[0mself\u001b[0m\u001b[1;33m,\u001b[0m \u001b[0mextensions\u001b[0m\u001b[1;33m=\u001b[0m\u001b[1;32mNone\u001b[0m\u001b[1;33m,\u001b[0m \u001b[1;33m*\u001b[0m\u001b[0margs\u001b[0m\u001b[1;33m,\u001b[0m \u001b[0mlaunch\u001b[0m\u001b[1;33m=\u001b[0m\u001b[1;32mTrue\u001b[0m\u001b[1;33m,\u001b[0m \u001b[1;33m**\u001b[0m\u001b[0mopts\u001b[0m\u001b[1;33m)\u001b[0m\u001b[1;33m:\u001b[0m\u001b[1;33m\u001b[0m\u001b[1;33m\u001b[0m\u001b[0m\n",
      "\u001b[1;32m~\\AppData\\Local\\Programs\\Python\\Python38\\lib\\site-packages\\beamngpy\\beamngcommon.py\u001b[0m in \u001b[0;36mrecv_msg\u001b[1;34m(skt)\u001b[0m\n\u001b[0;32m    159\u001b[0m     \u001b[0mlog\u001b[0m\u001b[1;33m.\u001b[0m\u001b[0minfo\u001b[0m\u001b[1;33m(\u001b[0m\u001b[1;34mf'recv #0: {skt.getsockname()[1]}'\u001b[0m\u001b[1;33m)\u001b[0m\u001b[1;33m\u001b[0m\u001b[1;33m\u001b[0m\u001b[0m\n\u001b[0;32m    160\u001b[0m \u001b[1;33m\u001b[0m\u001b[0m\n\u001b[1;32m--> 161\u001b[1;33m     \u001b[0mlength\u001b[0m \u001b[1;33m=\u001b[0m \u001b[0mskt\u001b[0m\u001b[1;33m.\u001b[0m\u001b[0mrecv\u001b[0m\u001b[1;33m(\u001b[0m\u001b[1;36m16\u001b[0m\u001b[1;33m)\u001b[0m\u001b[1;33m\u001b[0m\u001b[1;33m\u001b[0m\u001b[0m\n\u001b[0m\u001b[0;32m    162\u001b[0m     \u001b[0mlength\u001b[0m \u001b[1;33m=\u001b[0m \u001b[0mint\u001b[0m\u001b[1;33m(\u001b[0m\u001b[0mstr\u001b[0m\u001b[1;33m(\u001b[0m\u001b[0mlength\u001b[0m\u001b[1;33m,\u001b[0m \u001b[1;34m'ascii'\u001b[0m\u001b[1;33m)\u001b[0m\u001b[1;33m)\u001b[0m\u001b[1;33m\u001b[0m\u001b[1;33m\u001b[0m\u001b[0m\n\u001b[0;32m    163\u001b[0m     \u001b[0mlog\u001b[0m\u001b[1;33m.\u001b[0m\u001b[0minfo\u001b[0m\u001b[1;33m(\u001b[0m\u001b[1;34mf'recv #1: {length}'\u001b[0m\u001b[1;33m)\u001b[0m\u001b[1;33m\u001b[0m\u001b[1;33m\u001b[0m\u001b[0m\n",
      "\u001b[1;31mConnectionResetError\u001b[0m: [WinError 10054] An existing connection was forcibly closed by the remote host"
     ]
    }
   ],
   "source": [
    "vehicle.update_vehicle()\n",
    "sensors = bng.poll_sensors(vehicle)\n",
    "\n",
    "# vehicle.state\n",
    "# sensors"
   ]
  },
  {
   "cell_type": "code",
   "execution_count": 5,
   "metadata": {},
   "outputs": [
    {
     "name": "stderr",
     "output_type": "stream",
     "text": "2020-01-09 18:41:13,641 INFO     Closing BeamNGpy instance...\n"
    },
    {
     "ename": "ConnectionResetError",
     "evalue": "[WinError 10054] An existing connection was forcibly closed by the remote host",
     "output_type": "error",
     "traceback": [
      "\u001b[1;31m---------------------------------------------------------------------------\u001b[0m",
      "\u001b[1;31mConnectionResetError\u001b[0m                      Traceback (most recent call last)",
      "\u001b[1;32m<ipython-input-5-06a54501e795>\u001b[0m in \u001b[0;36m<module>\u001b[1;34m\u001b[0m\n\u001b[1;32m----> 1\u001b[1;33m \u001b[0mbng\u001b[0m\u001b[1;33m.\u001b[0m\u001b[0mclose\u001b[0m\u001b[1;33m(\u001b[0m\u001b[1;33m)\u001b[0m\u001b[1;33m\u001b[0m\u001b[1;33m\u001b[0m\u001b[0m\n\u001b[0m",
      "\u001b[1;32m~\\AppData\\Local\\Programs\\Python\\Python38\\lib\\site-packages\\beamngpy\\beamng.py\u001b[0m in \u001b[0;36mclose\u001b[1;34m(self)\u001b[0m\n\u001b[0;32m    292\u001b[0m         \u001b[0mlog\u001b[0m\u001b[1;33m.\u001b[0m\u001b[0minfo\u001b[0m\u001b[1;33m(\u001b[0m\u001b[1;34m'Closing BeamNGpy instance...'\u001b[0m\u001b[1;33m)\u001b[0m\u001b[1;33m\u001b[0m\u001b[1;33m\u001b[0m\u001b[0m\n\u001b[0;32m    293\u001b[0m         \u001b[1;32mif\u001b[0m \u001b[0mself\u001b[0m\u001b[1;33m.\u001b[0m\u001b[0mscenario\u001b[0m\u001b[1;33m:\u001b[0m\u001b[1;33m\u001b[0m\u001b[1;33m\u001b[0m\u001b[0m\n\u001b[1;32m--> 294\u001b[1;33m             \u001b[0mself\u001b[0m\u001b[1;33m.\u001b[0m\u001b[0mscenario\u001b[0m\u001b[1;33m.\u001b[0m\u001b[0mclose\u001b[0m\u001b[1;33m(\u001b[0m\u001b[1;33m)\u001b[0m\u001b[1;33m\u001b[0m\u001b[1;33m\u001b[0m\u001b[0m\n\u001b[0m\u001b[0;32m    295\u001b[0m             \u001b[0mself\u001b[0m\u001b[1;33m.\u001b[0m\u001b[0mscenario\u001b[0m \u001b[1;33m=\u001b[0m \u001b[1;32mNone\u001b[0m\u001b[1;33m\u001b[0m\u001b[1;33m\u001b[0m\u001b[0m\n\u001b[0;32m    296\u001b[0m \u001b[1;33m\u001b[0m\u001b[0m\n",
      "\u001b[1;32m~\\AppData\\Local\\Programs\\Python\\Python38\\lib\\site-packages\\beamngpy\\scenario.py\u001b[0m in \u001b[0;36mclose\u001b[1;34m(self)\u001b[0m\n\u001b[0;32m    664\u001b[0m \u001b[1;33m\u001b[0m\u001b[0m\n\u001b[0;32m    665\u001b[0m         \u001b[1;32mfor\u001b[0m \u001b[0mvehicle\u001b[0m \u001b[1;32min\u001b[0m \u001b[0mself\u001b[0m\u001b[1;33m.\u001b[0m\u001b[0mvehicles\u001b[0m\u001b[1;33m.\u001b[0m\u001b[0mkeys\u001b[0m\u001b[1;33m(\u001b[0m\u001b[1;33m)\u001b[0m\u001b[1;33m:\u001b[0m\u001b[1;33m\u001b[0m\u001b[1;33m\u001b[0m\u001b[0m\n\u001b[1;32m--> 666\u001b[1;33m             \u001b[0mvehicle\u001b[0m\u001b[1;33m.\u001b[0m\u001b[0mclose\u001b[0m\u001b[1;33m(\u001b[0m\u001b[1;33m)\u001b[0m\u001b[1;33m\u001b[0m\u001b[1;33m\u001b[0m\u001b[0m\n\u001b[0m\u001b[0;32m    667\u001b[0m \u001b[1;33m\u001b[0m\u001b[0m\n\u001b[0;32m    668\u001b[0m         \u001b[0mself\u001b[0m\u001b[1;33m.\u001b[0m\u001b[0mbng\u001b[0m \u001b[1;33m=\u001b[0m \u001b[1;32mNone\u001b[0m\u001b[1;33m\u001b[0m\u001b[1;33m\u001b[0m\u001b[0m\n",
      "\u001b[1;32m~\\AppData\\Local\\Programs\\Python\\Python38\\lib\\site-packages\\beamngpy\\vehicle.py\u001b[0m in \u001b[0;36mclose\u001b[1;34m(self)\u001b[0m\n\u001b[0;32m    603\u001b[0m         \u001b[0msensors\u001b[0m\u001b[1;33m.\u001b[0m\u001b[1;33m\u001b[0m\u001b[1;33m\u001b[0m\u001b[0m\n\u001b[0;32m    604\u001b[0m         \"\"\"\n\u001b[1;32m--> 605\u001b[1;33m         \u001b[0mself\u001b[0m\u001b[1;33m.\u001b[0m\u001b[0mdisconnect\u001b[0m\u001b[1;33m(\u001b[0m\u001b[1;33m)\u001b[0m\u001b[1;33m\u001b[0m\u001b[1;33m\u001b[0m\u001b[0m\n\u001b[0m\u001b[0;32m    606\u001b[0m \u001b[1;33m\u001b[0m\u001b[0m\n\u001b[0;32m    607\u001b[0m         \u001b[1;32mfor\u001b[0m \u001b[0mname\u001b[0m\u001b[1;33m,\u001b[0m \u001b[0msensor\u001b[0m \u001b[1;32min\u001b[0m \u001b[0mself\u001b[0m\u001b[1;33m.\u001b[0m\u001b[0msensors\u001b[0m\u001b[1;33m.\u001b[0m\u001b[0mitems\u001b[0m\u001b[1;33m(\u001b[0m\u001b[1;33m)\u001b[0m\u001b[1;33m:\u001b[0m\u001b[1;33m\u001b[0m\u001b[1;33m\u001b[0m\u001b[0m\n",
      "\u001b[1;32m~\\AppData\\Local\\Programs\\Python\\Python38\\lib\\site-packages\\beamngpy\\vehicle.py\u001b[0m in \u001b[0;36mdisconnect\u001b[1;34m(self)\u001b[0m\n\u001b[0;32m    129\u001b[0m         \"\"\"\n\u001b[0;32m    130\u001b[0m         \u001b[1;32mfor\u001b[0m \u001b[0mname\u001b[0m\u001b[1;33m,\u001b[0m \u001b[0msensor\u001b[0m \u001b[1;32min\u001b[0m \u001b[0mself\u001b[0m\u001b[1;33m.\u001b[0m\u001b[0msensors\u001b[0m\u001b[1;33m.\u001b[0m\u001b[0mitems\u001b[0m\u001b[1;33m(\u001b[0m\u001b[1;33m)\u001b[0m\u001b[1;33m:\u001b[0m\u001b[1;33m\u001b[0m\u001b[1;33m\u001b[0m\u001b[0m\n\u001b[1;32m--> 131\u001b[1;33m             \u001b[0msensor\u001b[0m\u001b[1;33m.\u001b[0m\u001b[0mdisconnect\u001b[0m\u001b[1;33m(\u001b[0m\u001b[0mself\u001b[0m\u001b[1;33m.\u001b[0m\u001b[0mbng\u001b[0m\u001b[1;33m,\u001b[0m \u001b[0mself\u001b[0m\u001b[1;33m)\u001b[0m\u001b[1;33m\u001b[0m\u001b[1;33m\u001b[0m\u001b[0m\n\u001b[0m\u001b[0;32m    132\u001b[0m \u001b[1;33m\u001b[0m\u001b[0m\n\u001b[0;32m    133\u001b[0m         \u001b[0mself\u001b[0m\u001b[1;33m.\u001b[0m\u001b[0mserver\u001b[0m\u001b[1;33m.\u001b[0m\u001b[0mclose\u001b[0m\u001b[1;33m(\u001b[0m\u001b[1;33m)\u001b[0m\u001b[1;33m\u001b[0m\u001b[1;33m\u001b[0m\u001b[0m\n",
      "\u001b[1;32m~\\AppData\\Local\\Programs\\Python\\Python38\\lib\\site-packages\\beamngpy\\sensors.py\u001b[0m in \u001b[0;36mdisconnect\u001b[1;34m(self, bng, vehicle)\u001b[0m\n\u001b[0;32m    288\u001b[0m         \"\"\"\n\u001b[0;32m    289\u001b[0m         \u001b[1;32mif\u001b[0m \u001b[0mself\u001b[0m\u001b[1;33m.\u001b[0m\u001b[0mcolour_shmem\u001b[0m\u001b[1;33m:\u001b[0m\u001b[1;33m\u001b[0m\u001b[1;33m\u001b[0m\u001b[0m\n\u001b[1;32m--> 290\u001b[1;33m             \u001b[0mbng\u001b[0m\u001b[1;33m.\u001b[0m\u001b[0mclose_shmem\u001b[0m\u001b[1;33m(\u001b[0m\u001b[0mself\u001b[0m\u001b[1;33m.\u001b[0m\u001b[0mcolour_handle\u001b[0m\u001b[1;33m)\u001b[0m\u001b[1;33m\u001b[0m\u001b[1;33m\u001b[0m\u001b[0m\n\u001b[0m\u001b[0;32m    291\u001b[0m \u001b[1;33m\u001b[0m\u001b[0m\n\u001b[0;32m    292\u001b[0m         \u001b[1;32mif\u001b[0m \u001b[0mself\u001b[0m\u001b[1;33m.\u001b[0m\u001b[0mdepth_shmem\u001b[0m\u001b[1;33m:\u001b[0m\u001b[1;33m\u001b[0m\u001b[1;33m\u001b[0m\u001b[0m\n",
      "\u001b[1;32m~\\AppData\\Local\\Programs\\Python\\Python38\\lib\\site-packages\\beamngpy\\beamngcommon.py\u001b[0m in \u001b[0;36mack_wrapped\u001b[1;34m(*args, **kwargs)\u001b[0m\n\u001b[0;32m     40\u001b[0m         \u001b[1;33m@\u001b[0m\u001b[0mwraps\u001b[0m\u001b[1;33m(\u001b[0m\u001b[0mfun\u001b[0m\u001b[1;33m)\u001b[0m\u001b[1;33m\u001b[0m\u001b[1;33m\u001b[0m\u001b[0m\n\u001b[0;32m     41\u001b[0m         \u001b[1;32mdef\u001b[0m \u001b[0mack_wrapped\u001b[0m\u001b[1;33m(\u001b[0m\u001b[1;33m*\u001b[0m\u001b[0margs\u001b[0m\u001b[1;33m,\u001b[0m \u001b[1;33m**\u001b[0m\u001b[0mkwargs\u001b[0m\u001b[1;33m)\u001b[0m\u001b[1;33m:\u001b[0m\u001b[1;33m\u001b[0m\u001b[1;33m\u001b[0m\u001b[0m\n\u001b[1;32m---> 42\u001b[1;33m             \u001b[0mret\u001b[0m \u001b[1;33m=\u001b[0m \u001b[0mfun\u001b[0m\u001b[1;33m(\u001b[0m\u001b[1;33m*\u001b[0m\u001b[0margs\u001b[0m\u001b[1;33m,\u001b[0m \u001b[1;33m**\u001b[0m\u001b[0mkwargs\u001b[0m\u001b[1;33m)\u001b[0m\u001b[1;33m\u001b[0m\u001b[1;33m\u001b[0m\u001b[0m\n\u001b[0m\u001b[0;32m     43\u001b[0m             \u001b[0mresp\u001b[0m \u001b[1;33m=\u001b[0m \u001b[0margs\u001b[0m\u001b[1;33m[\u001b[0m\u001b[1;36m0\u001b[0m\u001b[1;33m]\u001b[0m\u001b[1;33m.\u001b[0m\u001b[0mrecv\u001b[0m\u001b[1;33m(\u001b[0m\u001b[1;33m)\u001b[0m\u001b[1;33m\u001b[0m\u001b[1;33m\u001b[0m\u001b[0m\n\u001b[0;32m     44\u001b[0m             \u001b[1;32mif\u001b[0m \u001b[0mresp\u001b[0m\u001b[1;33m[\u001b[0m\u001b[1;34m'type'\u001b[0m\u001b[1;33m]\u001b[0m \u001b[1;33m!=\u001b[0m \u001b[0mack_type\u001b[0m\u001b[1;33m:\u001b[0m\u001b[1;33m\u001b[0m\u001b[1;33m\u001b[0m\u001b[0m\n",
      "\u001b[1;32m~\\AppData\\Local\\Programs\\Python\\Python38\\lib\\site-packages\\beamngpy\\beamng.py\u001b[0m in \u001b[0;36mclose_shmem\u001b[1;34m(self, name)\u001b[0m\n\u001b[0;32m    426\u001b[0m         \"\"\"\n\u001b[0;32m    427\u001b[0m         \u001b[0mdata\u001b[0m \u001b[1;33m=\u001b[0m \u001b[0mdict\u001b[0m\u001b[1;33m(\u001b[0m\u001b[0mtype\u001b[0m\u001b[1;33m=\u001b[0m\u001b[1;34m'CloseShmem'\u001b[0m\u001b[1;33m,\u001b[0m \u001b[0mname\u001b[0m\u001b[1;33m=\u001b[0m\u001b[0mname\u001b[0m\u001b[1;33m)\u001b[0m\u001b[1;33m\u001b[0m\u001b[1;33m\u001b[0m\u001b[0m\n\u001b[1;32m--> 428\u001b[1;33m         \u001b[0mself\u001b[0m\u001b[1;33m.\u001b[0m\u001b[0msend\u001b[0m\u001b[1;33m(\u001b[0m\u001b[0mdata\u001b[0m\u001b[1;33m)\u001b[0m\u001b[1;33m\u001b[0m\u001b[1;33m\u001b[0m\u001b[0m\n\u001b[0m\u001b[0;32m    429\u001b[0m \u001b[1;33m\u001b[0m\u001b[0m\n\u001b[0;32m    430\u001b[0m     \u001b[1;33m@\u001b[0m\u001b[0mack\u001b[0m\u001b[1;33m(\u001b[0m\u001b[1;34m'OpenedLidar'\u001b[0m\u001b[1;33m)\u001b[0m\u001b[1;33m\u001b[0m\u001b[1;33m\u001b[0m\u001b[0m\n",
      "\u001b[1;32m~\\AppData\\Local\\Programs\\Python\\Python38\\lib\\site-packages\\beamngpy\\beamng.py\u001b[0m in \u001b[0;36msend\u001b[1;34m(self, data)\u001b[0m\n\u001b[0;32m    243\u001b[0m             \u001b[0mdata\u001b[0m \u001b[1;33m(\u001b[0m\u001b[0mdict\u001b[0m\u001b[1;33m)\u001b[0m\u001b[1;33m:\u001b[0m \u001b[0mThe\u001b[0m \u001b[0mdata\u001b[0m \u001b[0mto\u001b[0m \u001b[0msend\u001b[0m\u001b[1;33m.\u001b[0m\u001b[1;33m\u001b[0m\u001b[1;33m\u001b[0m\u001b[0m\n\u001b[0;32m    244\u001b[0m         \"\"\"\n\u001b[1;32m--> 245\u001b[1;33m         \u001b[1;32mreturn\u001b[0m \u001b[0msend_msg\u001b[0m\u001b[1;33m(\u001b[0m\u001b[0mself\u001b[0m\u001b[1;33m.\u001b[0m\u001b[0mskt\u001b[0m\u001b[1;33m,\u001b[0m \u001b[0mdata\u001b[0m\u001b[1;33m)\u001b[0m\u001b[1;33m\u001b[0m\u001b[1;33m\u001b[0m\u001b[0m\n\u001b[0m\u001b[0;32m    246\u001b[0m \u001b[1;33m\u001b[0m\u001b[0m\n\u001b[0;32m    247\u001b[0m     \u001b[1;32mdef\u001b[0m \u001b[0mrecv\u001b[0m\u001b[1;33m(\u001b[0m\u001b[0mself\u001b[0m\u001b[1;33m)\u001b[0m\u001b[1;33m:\u001b[0m\u001b[1;33m\u001b[0m\u001b[1;33m\u001b[0m\u001b[0m\n",
      "\u001b[1;32m~\\AppData\\Local\\Programs\\Python\\Python38\\lib\\site-packages\\beamngpy\\beamngcommon.py\u001b[0m in \u001b[0;36msend_msg\u001b[1;34m(skt, data)\u001b[0m\n\u001b[0;32m    135\u001b[0m     \u001b[0mdata\u001b[0m \u001b[1;33m=\u001b[0m \u001b[0mmsgpack\u001b[0m\u001b[1;33m.\u001b[0m\u001b[0mpackb\u001b[0m\u001b[1;33m(\u001b[0m\u001b[0mdata\u001b[0m\u001b[1;33m,\u001b[0m \u001b[0muse_bin_type\u001b[0m\u001b[1;33m=\u001b[0m\u001b[1;32mTrue\u001b[0m\u001b[1;33m)\u001b[0m\u001b[1;33m\u001b[0m\u001b[1;33m\u001b[0m\u001b[0m\n\u001b[0;32m    136\u001b[0m     \u001b[0mlength\u001b[0m \u001b[1;33m=\u001b[0m \u001b[1;34m'{:016}'\u001b[0m\u001b[1;33m.\u001b[0m\u001b[0mformat\u001b[0m\u001b[1;33m(\u001b[0m\u001b[0mlen\u001b[0m\u001b[1;33m(\u001b[0m\u001b[0mdata\u001b[0m\u001b[1;33m)\u001b[0m\u001b[1;33m)\u001b[0m\u001b[1;33m\u001b[0m\u001b[1;33m\u001b[0m\u001b[0m\n\u001b[1;32m--> 137\u001b[1;33m     \u001b[0mskt\u001b[0m\u001b[1;33m.\u001b[0m\u001b[0msend\u001b[0m\u001b[1;33m(\u001b[0m\u001b[0mbytes\u001b[0m\u001b[1;33m(\u001b[0m\u001b[0mlength\u001b[0m\u001b[1;33m,\u001b[0m \u001b[1;34m'ascii'\u001b[0m\u001b[1;33m)\u001b[0m\u001b[1;33m)\u001b[0m\u001b[1;33m\u001b[0m\u001b[1;33m\u001b[0m\u001b[0m\n\u001b[0m\u001b[0;32m    138\u001b[0m     \u001b[0mskt\u001b[0m\u001b[1;33m.\u001b[0m\u001b[0msend\u001b[0m\u001b[1;33m(\u001b[0m\u001b[0mdata\u001b[0m\u001b[1;33m)\u001b[0m\u001b[1;33m\u001b[0m\u001b[1;33m\u001b[0m\u001b[0m\n\u001b[0;32m    139\u001b[0m \u001b[1;33m\u001b[0m\u001b[0m\n",
      "\u001b[1;31mConnectionResetError\u001b[0m: [WinError 10054] An existing connection was forcibly closed by the remote host"
     ]
    }
   ],
   "source": [
    "bng.close()"
   ]
  }
 ]
}