{
 "nbformat": 4,
 "nbformat_minor": 2,
 "metadata": {
  "language_info": {
   "name": "python",
   "codemirror_mode": {
    "name": "ipython",
    "version": 3
   },
   "version": "3.8.1-final"
  },
  "orig_nbformat": 2,
  "file_extension": ".py",
  "mimetype": "text/x-python",
  "name": "python",
  "npconvert_exporter": "python",
  "pygments_lexer": "ipython3",
  "version": 3,
  "kernelspec": {
   "name": "python38164bitbbfd1ca6f21b43bd852de635df8a414d",
   "display_name": "Python 3.8.1 64-bit"
  }
 },
 "cells": [
  {
   "cell_type": "code",
   "execution_count": 2,
   "metadata": {},
   "outputs": [],
   "source": [
    "import matplotlib.pyplot as plt\n",
    "import numpy as np\n",
    "import time\n",
    "import pandas as pd\n",
    "\n",
    "from beamngpy import BeamNGpy, Vehicle, Scenario, setup_logging\n",
    "from beamngpy.sensors import Electrics, Camera, Damage, Timer"
   ]
  },
  {
   "cell_type": "code",
   "execution_count": 3,
   "metadata": {},
   "outputs": [
    {
     "name": "stderr",
     "output_type": "stream",
     "text": "2020-01-17 20:58:44,059 INFO     Started BeamNGpy logging.\n2020-01-17 20:58:44,074 DEBUG    Bound memory for colour: 6688.auto.front_cam.colour\n2020-01-17 20:58:44,076 DEBUG    Bound memory for depth: 6688.auto.front_cam.depth\n2020-01-17 20:58:44,079 DEBUG    Bound memory for annotation: 6688.auto.front_cam.annotate\n"
    }
   ],
   "source": [
    "setup_logging()\n",
    "\n",
    "# create BeamNG simulator instance\n",
    "beamng = BeamNGpy(host='localhost', port=64256)\n",
    "\n",
    "# create a scenario\n",
    "# TODO: what other levels are possible?\n",
    "scenario = Scenario(level='west_coast_usa', name='vehicle_state_scenario')\n",
    "\n",
    "# create a vehicle, attach sensors\n",
    "# TODO: use random UUID as vid\n",
    "vehicle = Vehicle(vid='auto', model='etk800', licence='KASPAR', color='Green')\n",
    "\n",
    "# set up sensors\n",
    "pos = (-0.3, 1, 1.0)\n",
    "direction = (0, 1, 0)\n",
    "fov = 60\n",
    "resolution = (512, 512 // 2)\n",
    "front_camera = Camera(pos, direction, fov, resolution, colour=True, depth=False, annotation=False)\n",
    "\n",
    "electrics = Electrics()\n",
    "damage = Damage()\n",
    "timer = Timer()\n",
    "\n",
    "vehicle.attach_sensor('front_cam', front_camera)\n",
    "vehicle.attach_sensor('electrics', electrics)\n",
    "vehicle.attach_sensor('damage', damage)\n",
    "vehicle.attach_sensor('timer', timer)\n",
    "\n",
    "scenario.add_vehicle(vehicle, pos=(-717.121, 101, 118.675), rot=(0, 0, 45))\n",
    "\n",
    "# compile scenario and produce scenario file\n",
    "scenario.make(beamng)"
   ]
  },
  {
   "cell_type": "code",
   "execution_count": 4,
   "metadata": {},
   "outputs": [
    {
     "name": "stderr",
     "output_type": "stream",
     "text": "2020-01-17 20:58:48,218 DEBUG    Determined BeamNG.* binary to be: C:\\Users\\kaspa\\Desktop\\research-unlimited\\trunk\\Bin64\\BeamNG.research.x64.exe\n"
    }
   ],
   "source": [
    "binary = beamng.determine_binary()\n"
   ]
  },
  {
   "cell_type": "code",
   "execution_count": 5,
   "metadata": {},
   "outputs": [
    {
     "name": "stderr",
     "output_type": "stream",
     "text": "2020-01-17 20:58:50,700 INFO     Opening BeamNPy instance...\n2020-01-17 20:58:50,711 INFO     Started BeamNGpy server on localhost:64256\n2020-01-17 20:58:50,714 DEBUG    Determined BeamNG.* binary to be: C:\\Users\\kaspa\\Desktop\\research-unlimited\\trunk\\Bin64\\BeamNG.research.x64.exe\n2020-01-17 20:58:50,720 DEBUG    Starting BeamNG process...\n2020-01-17 20:58:59,031 DEBUG    Connection established. Awaiting \"hello\"...\n2020-01-17 20:58:59,037 INFO     Started BeamNGpy communicating on ('127.0.0.1', 50021)\n2020-01-17 20:59:28,396 DEBUG    Starting vehicle server for V:auto on: localhost:64257\n"
    }
   ],
   "source": [
    "bng = beamng.open(launch=True)\n",
    "bng.load_scenario(scenario)\n",
    "bng.start_scenario()"
   ]
  },
  {
   "cell_type": "code",
   "execution_count": 6,
   "metadata": {},
   "outputs": [],
   "source": [
    "NUM_OF_CAPTURES = 200\n",
    "PERIOD = 0.2 # 200 ms\n",
    "\n",
    "position = []\n",
    "direction = []\n",
    "velocity = []\n",
    "wheel_speed = []\n",
    "throttle = []\n",
    "brake = []\n",
    "steering = []\n",
    "timestamp = []\n",
    "\n",
    "IMAGE_STORE = 'C:\\\\Users\\\\kaspa\\\\Documents\\\\BeamNG.research\\\\screenshots\\\\capture'\n",
    "\n",
    "for index in range(NUM_OF_CAPTURES):\n",
    "    time.sleep(PERIOD)\n",
    "    vehicle.update_vehicle()\n",
    "\n",
    "    position.append(vehicle.state['pos'])\n",
    "    direction.append(vehicle.state['dir'])\n",
    "    velocity.append(3.6 * np.linalg.norm(vehicle.state['vel'])) # km/h\n",
    "\n",
    "    sensors = bng.poll_sensors(vehicle)\n",
    "    t = sensors['timer']['time']\n",
    "    timestamp.append(t)\n",
    "    wheel_speed.append(sensors['electrics']['values']['wheelspeed'])\n",
    "    throttle.append(sensors['electrics']['values']['throttle'])\n",
    "    brake.append(sensors['electrics']['values']['brake'])\n",
    "    steering.append(sensors['electrics']['values']['steering_input'])\n",
    "\n",
    "    sensors['front_cam']['colour'].save(f'{IMAGE_STORE}\\\\{index}.png', 'png')    "
   ]
  },
  {
   "cell_type": "code",
   "execution_count": 7,
   "metadata": {},
   "outputs": [
    {
     "data": {
      "text/html": "<div>\n<style scoped>\n    .dataframe tbody tr th:only-of-type {\n        vertical-align: middle;\n    }\n\n    .dataframe tbody tr th {\n        vertical-align: top;\n    }\n\n    .dataframe thead th {\n        text-align: right;\n    }\n</style>\n<table border=\"1\" class=\"dataframe\">\n  <thead>\n    <tr style=\"text-align: right;\">\n      <th></th>\n      <th>timestamp</th>\n      <th>position_x</th>\n      <th>position_y</th>\n      <th>position_z</th>\n      <th>direction_x</th>\n      <th>direction_y</th>\n      <th>direction_z</th>\n      <th>velocity</th>\n      <th>wheel_speed</th>\n      <th>throttle</th>\n      <th>brake</th>\n      <th>steering</th>\n    </tr>\n  </thead>\n  <tbody>\n    <tr>\n      <th>0</th>\n      <td>3.171000</td>\n      <td>-717.133057</td>\n      <td>100.987595</td>\n      <td>118.545441</td>\n      <td>-0.706914</td>\n      <td>-0.707268</td>\n      <td>-0.006672</td>\n      <td>0.000464</td>\n      <td>0.000018</td>\n      <td>0.000035</td>\n      <td>0.000000</td>\n      <td>0.000000</td>\n    </tr>\n    <tr>\n      <th>1</th>\n      <td>3.821000</td>\n      <td>-717.133118</td>\n      <td>100.987595</td>\n      <td>118.545441</td>\n      <td>-0.706914</td>\n      <td>-0.707267</td>\n      <td>-0.006672</td>\n      <td>0.000590</td>\n      <td>0.000013</td>\n      <td>0.000035</td>\n      <td>0.000000</td>\n      <td>0.000000</td>\n    </tr>\n    <tr>\n      <th>2</th>\n      <td>4.371000</td>\n      <td>-717.133057</td>\n      <td>100.987595</td>\n      <td>118.545441</td>\n      <td>-0.706915</td>\n      <td>-0.707267</td>\n      <td>-0.006673</td>\n      <td>0.000278</td>\n      <td>0.000003</td>\n      <td>0.000035</td>\n      <td>0.007141</td>\n      <td>0.000000</td>\n    </tr>\n    <tr>\n      <th>3</th>\n      <td>4.921000</td>\n      <td>-717.133118</td>\n      <td>100.987595</td>\n      <td>118.545441</td>\n      <td>-0.706914</td>\n      <td>-0.707268</td>\n      <td>-0.006674</td>\n      <td>0.000154</td>\n      <td>0.000016</td>\n      <td>0.000035</td>\n      <td>0.453750</td>\n      <td>0.000000</td>\n    </tr>\n    <tr>\n      <th>4</th>\n      <td>5.421000</td>\n      <td>-717.133118</td>\n      <td>100.987595</td>\n      <td>118.545448</td>\n      <td>-0.706914</td>\n      <td>-0.707268</td>\n      <td>-0.006674</td>\n      <td>0.000663</td>\n      <td>0.000122</td>\n      <td>0.000035</td>\n      <td>1.000000</td>\n      <td>0.000000</td>\n    </tr>\n    <tr>\n      <th>...</th>\n      <td>...</td>\n      <td>...</td>\n      <td>...</td>\n      <td>...</td>\n      <td>...</td>\n      <td>...</td>\n      <td>...</td>\n      <td>...</td>\n      <td>...</td>\n      <td>...</td>\n      <td>...</td>\n      <td>...</td>\n    </tr>\n    <tr>\n      <th>195</th>\n      <td>93.621001</td>\n      <td>-400.868774</td>\n      <td>327.036804</td>\n      <td>101.995827</td>\n      <td>0.998588</td>\n      <td>-0.052879</td>\n      <td>-0.005183</td>\n      <td>6.992370</td>\n      <td>1.730087</td>\n      <td>0.196831</td>\n      <td>0.012490</td>\n      <td>-0.520494</td>\n    </tr>\n    <tr>\n      <th>196</th>\n      <td>94.121001</td>\n      <td>-399.603760</td>\n      <td>327.285400</td>\n      <td>102.005989</td>\n      <td>0.995450</td>\n      <td>0.094560</td>\n      <td>0.011707</td>\n      <td>13.301546</td>\n      <td>3.900211</td>\n      <td>0.004959</td>\n      <td>0.012490</td>\n      <td>-0.654570</td>\n    </tr>\n    <tr>\n      <th>197</th>\n      <td>94.621001</td>\n      <td>-397.961945</td>\n      <td>328.052216</td>\n      <td>101.996101</td>\n      <td>0.938367</td>\n      <td>0.345571</td>\n      <td>-0.006994</td>\n      <td>11.869047</td>\n      <td>3.123664</td>\n      <td>0.000000</td>\n      <td>0.013841</td>\n      <td>-0.633919</td>\n    </tr>\n    <tr>\n      <th>198</th>\n      <td>95.071002</td>\n      <td>-396.914612</td>\n      <td>328.883301</td>\n      <td>101.996719</td>\n      <td>0.856189</td>\n      <td>0.516636</td>\n      <td>-0.005243</td>\n      <td>9.538798</td>\n      <td>2.601724</td>\n      <td>0.000000</td>\n      <td>0.013841</td>\n      <td>-0.414800</td>\n    </tr>\n    <tr>\n      <th>199</th>\n      <td>95.521002</td>\n      <td>-396.162506</td>\n      <td>329.585785</td>\n      <td>101.993477</td>\n      <td>0.800629</td>\n      <td>0.599135</td>\n      <td>-0.005539</td>\n      <td>6.943745</td>\n      <td>1.151168</td>\n      <td>0.000000</td>\n      <td>0.511388</td>\n      <td>-0.497300</td>\n    </tr>\n  </tbody>\n</table>\n<p>200 rows × 12 columns</p>\n</div>",
      "text/plain": "     timestamp  position_x  position_y  position_z  direction_x  direction_y  \\\n0     3.171000 -717.133057  100.987595  118.545441    -0.706914    -0.707268   \n1     3.821000 -717.133118  100.987595  118.545441    -0.706914    -0.707267   \n2     4.371000 -717.133057  100.987595  118.545441    -0.706915    -0.707267   \n3     4.921000 -717.133118  100.987595  118.545441    -0.706914    -0.707268   \n4     5.421000 -717.133118  100.987595  118.545448    -0.706914    -0.707268   \n..         ...         ...         ...         ...          ...          ...   \n195  93.621001 -400.868774  327.036804  101.995827     0.998588    -0.052879   \n196  94.121001 -399.603760  327.285400  102.005989     0.995450     0.094560   \n197  94.621001 -397.961945  328.052216  101.996101     0.938367     0.345571   \n198  95.071002 -396.914612  328.883301  101.996719     0.856189     0.516636   \n199  95.521002 -396.162506  329.585785  101.993477     0.800629     0.599135   \n\n     direction_z   velocity  wheel_speed  throttle     brake  steering  \n0      -0.006672   0.000464     0.000018  0.000035  0.000000  0.000000  \n1      -0.006672   0.000590     0.000013  0.000035  0.000000  0.000000  \n2      -0.006673   0.000278     0.000003  0.000035  0.007141  0.000000  \n3      -0.006674   0.000154     0.000016  0.000035  0.453750  0.000000  \n4      -0.006674   0.000663     0.000122  0.000035  1.000000  0.000000  \n..           ...        ...          ...       ...       ...       ...  \n195    -0.005183   6.992370     1.730087  0.196831  0.012490 -0.520494  \n196     0.011707  13.301546     3.900211  0.004959  0.012490 -0.654570  \n197    -0.006994  11.869047     3.123664  0.000000  0.013841 -0.633919  \n198    -0.005243   9.538798     2.601724  0.000000  0.013841 -0.414800  \n199    -0.005539   6.943745     1.151168  0.000000  0.511388 -0.497300  \n\n[200 rows x 12 columns]"
     },
     "execution_count": 7,
     "metadata": {},
     "output_type": "execute_result"
    }
   ],
   "source": [
    "position = np.asarray(position)\n",
    "direction = np.asarray(direction)\n",
    "\n",
    "data = list(zip(\n",
    "    timestamp, \n",
    "    position[:, 0], \n",
    "    position[:, 1], \n",
    "    position[:, 2], \n",
    "    direction[:, 0], \n",
    "    direction[:, 1], \n",
    "    direction[:, 2], \n",
    "    velocity, \n",
    "    wheel_speed, \n",
    "    throttle, \n",
    "    brake, \n",
    "    steering)\n",
    ")\n",
    "columns = [\n",
    "    'timestamp',\n",
    "    'position_x',\n",
    "    'position_y',\n",
    "    'position_z',\n",
    "    'direction_x',\n",
    "    'direction_y',\n",
    "    'direction_z',\n",
    "    'velocity',\n",
    "    'wheel_speed',\n",
    "    'throttle',\n",
    "    'brake',\n",
    "    'steering'\n",
    "]\n",
    "df = pd.DataFrame(data, columns=columns)\n",
    "df"
   ]
  },
  {
   "cell_type": "code",
   "execution_count": 13,
   "metadata": {},
   "outputs": [],
   "source": [
    "df.to_csv(f'{IMAGE_STORE}\\\\data.csv', encoding='utf-8', index=False)"
   ]
  },
  {
   "cell_type": "code",
   "execution_count": 73,
   "metadata": {},
   "outputs": [
    {
     "name": "stdout",
     "output_type": "stream",
     "text": "Volume in drive C has no label.\n Volume Serial Number is 16C5-554F\n\n Directory of C:\\Users\\kaspa\\Documents\\BeamNG.research\\screenshots\n\n17.01.2020  19:36    <DIR>          .\n17.01.2020  19:36    <DIR>          ..\n17.01.2020  00:37    <DIR>          2020-01\n17.01.2020  21:17    <DIR>          capture\n               0 File(s)              0 bytes\n               4 Dir(s)  458˙837˙217˙280 bytes free\n"
    }
   ],
   "source": [
    "!cd C:\\Users\\kaspa\\\\Documents\\BeamNG.research\\screenshots\\capture\n",
    "!dir"
   ]
  },
  {
   "cell_type": "code",
   "execution_count": 53,
   "metadata": {},
   "outputs": [
    {
     "name": "stderr",
     "output_type": "stream",
     "text": "2020-01-17 00:02:15,972 INFO     Closing BeamNGpy instance...\n2020-01-17 00:02:15,974 INFO     send #0: 64256\n2020-01-17 00:02:15,986 INFO     send #1: {'type': 'CloseShmem', 'name': '5432.auto.front_cam.colour'}\n2020-01-17 00:02:15,987 INFO     send #2: 0000000000000049\n2020-01-17 00:02:15,988 INFO     send #3: b'\\x82\\xa4type\\xaaCloseShmem\\xa4name\\xba5432.auto.front_cam.colour'\n2020-01-17 00:02:15,989 INFO     recv #0: 64256\n2020-01-17 00:02:16,007 INFO     recv #1: 18\n2020-01-17 00:02:16,009 INFO     recv #2: b'\\x81\\xa4type\\xabClosedShmem'\n2020-01-17 00:02:16,018 INFO     recv #3: b''\n2020-01-17 00:02:16,020 INFO     recv #4: {'type': 'ClosedShmem'}\n2020-01-17 00:02:16,021 INFO     send #0: 64256\n2020-01-17 00:02:16,022 INFO     send #1: {'type': 'CloseShmem', 'name': '5432.auto.front_cam.depth'}\n2020-01-17 00:02:16,023 INFO     send #2: 0000000000000048\n2020-01-17 00:02:16,024 INFO     send #3: b'\\x82\\xa4type\\xaaCloseShmem\\xa4name\\xb95432.auto.front_cam.depth'\n2020-01-17 00:02:16,026 INFO     recv #0: 64256\n2020-01-17 00:02:16,037 INFO     recv #1: 18\n2020-01-17 00:02:16,038 INFO     recv #2: b'\\x81\\xa4type\\xabClosedShmem'\n2020-01-17 00:02:16,041 INFO     recv #3: b''\n2020-01-17 00:02:16,046 INFO     recv #4: {'type': 'ClosedShmem'}\n2020-01-17 00:02:16,050 INFO     send #0: 64256\n2020-01-17 00:02:16,053 INFO     send #1: {'type': 'CloseShmem', 'name': '5432.auto.front_cam.annotate'}\n2020-01-17 00:02:16,056 INFO     send #2: 0000000000000051\n2020-01-17 00:02:16,058 INFO     send #3: b'\\x82\\xa4type\\xaaCloseShmem\\xa4name\\xbc5432.auto.front_cam.annotate'\n2020-01-17 00:02:16,059 INFO     recv #0: 64256\n2020-01-17 00:02:16,095 INFO     recv #1: 18\n2020-01-17 00:02:16,100 INFO     recv #2: b'\\x81\\xa4type\\xabClosedShmem'\n2020-01-17 00:02:16,102 INFO     recv #3: b''\n2020-01-17 00:02:16,103 INFO     recv #4: {'type': 'ClosedShmem'}\n2020-01-17 00:02:16,108 DEBUG    Unbinding memory for color: 5432.auto.front_cam.colour\n2020-01-17 00:02:16,111 DEBUG    Unbinding memory for depth: 5432.auto.front_cam.depth\n2020-01-17 00:02:16,113 DEBUG    Unbinding memory for annotation: 5432.auto.front_cam.annotate\n2020-01-17 00:02:16,114 DEBUG    Killing BeamNG process...\n"
    }
   ],
   "source": [
    "bng.close()"
   ]
  }
 ]
}